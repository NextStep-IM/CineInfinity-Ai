{
 "cells": [
  {
   "metadata": {},
   "cell_type": "markdown",
   "source": "Data Reading",
   "id": "be074f789f15ad93"
  },
  {
   "cell_type": "code",
   "id": "initial_id",
   "metadata": {
    "collapsed": true,
    "tags": [],
    "ExecuteTime": {
     "end_time": "2025-05-17T15:19:17.688856Z",
     "start_time": "2025-05-17T15:18:30.378908Z"
    }
   },
   "source": [
    "import pandas as pd\n",
    "\n",
    "movies = pd.read_csv(\"../dataset/movie.csv\")\n",
    "ratings = pd.read_csv(\"../dataset/rating.csv\")\n",
    "\n",
    "print(movies.head())\n",
    "print(ratings.head())"
   ],
   "outputs": [
    {
     "name": "stdout",
     "output_type": "stream",
     "text": [
      "   movieId                               title  \\\n",
      "0        1                    Toy Story (1995)   \n",
      "1        2                      Jumanji (1995)   \n",
      "2        3             Grumpier Old Men (1995)   \n",
      "3        4            Waiting to Exhale (1995)   \n",
      "4        5  Father of the Bride Part II (1995)   \n",
      "\n",
      "                                        genres  \n",
      "0  Adventure|Animation|Children|Comedy|Fantasy  \n",
      "1                   Adventure|Children|Fantasy  \n",
      "2                               Comedy|Romance  \n",
      "3                         Comedy|Drama|Romance  \n",
      "4                                       Comedy  \n",
      "   userId  movieId  rating            timestamp\n",
      "0       1        2     3.5  2005-04-02 23:53:47\n",
      "1       1       29     3.5  2005-04-02 23:31:16\n",
      "2       1       32     3.5  2005-04-02 23:33:39\n",
      "3       1       47     3.5  2005-04-02 23:32:07\n",
      "4       1       50     3.5  2005-04-02 23:29:40\n"
     ]
    }
   ],
   "execution_count": 3
  },
  {
   "metadata": {},
   "cell_type": "markdown",
   "source": [
    "Preprocessing\n",
    "\n",
    "Merge datasets\n",
    "Clean genres and titles\n",
    "Compute average rating per movie\n",
    "Create a genre + rating based profile"
   ],
   "id": "f19dc7e6fa7c6725"
  },
  {
   "metadata": {
    "ExecuteTime": {
     "end_time": "2025-05-17T15:22:52.841685Z",
     "start_time": "2025-05-17T15:22:50.799553Z"
    }
   },
   "cell_type": "code",
   "source": [
    "# Merge average ratings\n",
    "avg_ratings = ratings.groupby(\"movieId\")[\"rating\"].mean().reset_index()\n",
    "avg_ratings.columns = [\"movieId\", \"avg_rating\"]\n",
    "\n",
    "movies = movies.merge(avg_ratings, on=\"movieId\", how=\"left\")\n",
    "\n",
    "# Replace '|' with space in genres\n",
    "movies[\"genres\"] = movies[\"genres\"].str.replace(\"|\", \" \", regex=False)"
   ],
   "id": "dae93df32b55add0",
   "outputs": [],
   "execution_count": 4
  }
 ],
 "metadata": {
  "kernelspec": {
   "display_name": "Python 3",
   "language": "python",
   "name": "python3"
  },
  "language_info": {
   "codemirror_mode": {
    "name": "ipython",
    "version": 2
   },
   "file_extension": ".py",
   "mimetype": "text/x-python",
   "name": "python",
   "nbconvert_exporter": "python",
   "pygments_lexer": "ipython2",
   "version": "2.7.6"
  }
 },
 "nbformat": 4,
 "nbformat_minor": 5
}
